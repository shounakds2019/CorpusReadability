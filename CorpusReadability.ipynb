{
 "cells": [
  {
   "cell_type": "markdown",
   "metadata": {},
   "source": [
    "Corpus Readability"
   ]
  },
  {
   "cell_type": "code",
   "execution_count": 30,
   "metadata": {},
   "outputs": [
    {
     "name": "stderr",
     "output_type": "stream",
     "text": [
      "[nltk_data] Downloading package treebank to\n",
      "[nltk_data]     /Users/shounakmondal/nltk_data...\n",
      "[nltk_data]   Package treebank is already up-to-date!\n",
      "[nltk_data] Downloading package cmudict to\n",
      "[nltk_data]     /Users/shounakmondal/nltk_data...\n",
      "[nltk_data]   Package cmudict is already up-to-date!\n",
      "[nltk_data] Downloading package brown to\n",
      "[nltk_data]     /Users/shounakmondal/nltk_data...\n",
      "[nltk_data]   Package brown is already up-to-date!\n",
      "[nltk_data] Downloading package movie_reviews to\n",
      "[nltk_data]     /Users/shounakmondal/nltk_data...\n",
      "[nltk_data]   Package movie_reviews is already up-to-date!\n",
      "[nltk_data] Downloading package switchboard to\n",
      "[nltk_data]     /Users/shounakmondal/nltk_data...\n",
      "[nltk_data]   Package switchboard is already up-to-date!\n",
      "[nltk_data] Downloading package gutenberg to\n",
      "[nltk_data]     /Users/shounakmondal/nltk_data...\n",
      "[nltk_data]   Package gutenberg is already up-to-date!\n",
      "[nltk_data] Downloading package webtext to\n",
      "[nltk_data]     /Users/shounakmondal/nltk_data...\n",
      "[nltk_data]   Package webtext is already up-to-date!\n",
      "[nltk_data] Downloading package twitter_samples to\n",
      "[nltk_data]     /Users/shounakmondal/nltk_data...\n",
      "[nltk_data]   Package twitter_samples is already up-to-date!\n",
      "[nltk_data] Downloading package nps_chat to\n",
      "[nltk_data]     /Users/shounakmondal/nltk_data...\n",
      "[nltk_data]   Package nps_chat is already up-to-date!\n"
     ]
    }
   ],
   "source": [
    "import nltk\n",
    "nltk.download(\"treebank\")\n",
    "nltk.download(\"cmudict\")\n",
    "nltk.download(\"brown\")\n",
    "nltk.download(\"movie_reviews\")\n",
    "nltk.download(\"switchboard\")\n",
    "nltk.download(\"gutenberg\")\n",
    "nltk.download(\"webtext\")\n",
    "nltk.download(\"twitter_samples\")\n",
    "nltk.download(\"nps_chat\")\n",
    "\n",
    "from nltk.corpus import treebank,cmudict,brown,movie_reviews,switchboard,gutenberg,webtext,twitter_samples,nps_chat\n",
    "from collections import defaultdict, Counter\n",
    "import matplotlib\n",
    "import matplotlib.pyplot as plt\n",
    "import pandas as pd\n",
    "import altair as alt"
   ]
  },
  {
   "cell_type": "code",
   "execution_count": 31,
   "metadata": {},
   "outputs": [],
   "source": [
    "vowels = {\"a\",\"e\",\"i\",\"o\",\"u\",\"y\"}\n",
    "p_dict = cmudict.dict() # keep this outside as a global variable so you aren't reloading each time\n",
    "\n",
    "def get_syllables(word):\n",
    "    '''use CMU dict (p_dict) to count the number of syllables in word, default to number of vowels'''\n",
    "    syllable_count = 0\n",
    "    #your code here\n",
    "\n",
    "    if word.lower() not in p_dict:\n",
    "        syllable_count = len(vowels.intersection(word))\n",
    "    else:\n",
    "        for x in p_dict[word.lower()][0]:\n",
    "            if x[-1].isdigit():\n",
    "                syllable_count +=1\n",
    "                \n",
    "    return syllable_count"
   ]
  },
  {
   "cell_type": "code",
   "execution_count": 32,
   "metadata": {},
   "outputs": [],
   "source": [
    "def get_reading_ease(sentence):\n",
    "    '''calculate the Flesh reading ease for a single sentence consisting of a list of words (strings)'''\n",
    "    # your code here\n",
    "    total_words = 0\n",
    "    total_sentences = 1\n",
    "    total_syllables = 0\n",
    "    \n",
    "    for word in sentence:\n",
    "        if word.isalpha():\n",
    "            total_words +=1\n",
    "            syllables = get_syllables(word)\n",
    "            total_syllables += syllables\n",
    "            \n",
    "    if total_words == 0:\n",
    "        return None\n",
    "\n",
    "    reading_ease = 206.835 - 1.015 * (total_words / total_sentences) - 84.6 * (total_syllables / total_words)\n",
    "    return reading_ease\n"
   ]
  },
  {
   "cell_type": "code",
   "execution_count": 33,
   "metadata": {},
   "outputs": [],
   "source": [
    "def get_reading_ease_corpus(corpus):\n",
    "    total = 0 \n",
    "    count = 0\n",
    "    for sent in corpus.sents():\n",
    "        count +=1\n",
    "        score = get_reading_ease(sent) if get_reading_ease(sent) != None else 0\n",
    "        total = total + score\n",
    "\n",
    "    return total / count"
   ]
  },
  {
   "cell_type": "code",
   "execution_count": 38,
   "metadata": {},
   "outputs": [
    {
     "name": "stdout",
     "output_type": "stream",
     "text": [
      "Flesch Reading Ease for Penn Treebank is: 48.361193762970494\n",
      "Flesch Reading Ease for Movie Reviews is: 57.98530445444417\n",
      "Flesch Reading Ease for Brown is: 59.421414769007185\n",
      "Flesch Reading Ease for gutenberg is: 70.96167608411457\n",
      "Flesch Reading Ease for webtext is: 81.57121075203247\n"
     ]
    }
   ],
   "source": [
    "penn_readability = get_reading_ease_corpus(treebank)\n",
    "review_readability = get_reading_ease_corpus(movie_reviews)\n",
    "brown_readability = get_reading_ease_corpus(brown)\n",
    "gutenberg_readability = get_reading_ease_corpus(gutenberg)\n",
    "webtext_readability = get_reading_ease_corpus(webtext)\n",
    "\n",
    "print(\"Flesch Reading Ease for Penn Treebank is:\",penn_readability)\n",
    "print(\"Flesch Reading Ease for Movie Reviews is:\",review_readability)\n",
    "print(\"Flesch Reading Ease for Brown is:\",brown_readability)\n",
    "print(\"Flesch Reading Ease for gutenberg is:\",gutenberg_readability)\n",
    "print(\"Flesch Reading Ease for webtext is:\",webtext_readability)\n",
    "\n"
   ]
  },
  {
   "cell_type": "code",
   "execution_count": 39,
   "metadata": {},
   "outputs": [],
   "source": [
    "readability_list = [penn_readability, review_readability, brown_readability, gutenberg_readability, webtext_readability ]\n",
    "corpus_list = [\"Penn\", \"Movie Reviews\", \"Brown\", \"Gutenberg\", \"Web Text\"  ]\n",
    "columns_list = [\"corpus\",\"readibility_score\"]\n",
    "df = pd.DataFrame(zip(corpus_list,readability_list), columns = columns_list)"
   ]
  },
  {
   "cell_type": "code",
   "execution_count": 42,
   "metadata": {},
   "outputs": [
    {
     "data": {
      "text/html": [
       "\n",
       "<div id=\"altair-viz-885abbd1546246f0a4181a5b60ab65ce\"></div>\n",
       "<script type=\"text/javascript\">\n",
       "  (function(spec, embedOpt){\n",
       "    let outputDiv = document.currentScript.previousElementSibling;\n",
       "    if (outputDiv.id !== \"altair-viz-885abbd1546246f0a4181a5b60ab65ce\") {\n",
       "      outputDiv = document.getElementById(\"altair-viz-885abbd1546246f0a4181a5b60ab65ce\");\n",
       "    }\n",
       "    const paths = {\n",
       "      \"vega\": \"https://cdn.jsdelivr.net/npm//vega@5?noext\",\n",
       "      \"vega-lib\": \"https://cdn.jsdelivr.net/npm//vega-lib?noext\",\n",
       "      \"vega-lite\": \"https://cdn.jsdelivr.net/npm//vega-lite@4.8.1?noext\",\n",
       "      \"vega-embed\": \"https://cdn.jsdelivr.net/npm//vega-embed@6?noext\",\n",
       "    };\n",
       "\n",
       "    function loadScript(lib) {\n",
       "      return new Promise(function(resolve, reject) {\n",
       "        var s = document.createElement('script');\n",
       "        s.src = paths[lib];\n",
       "        s.async = true;\n",
       "        s.onload = () => resolve(paths[lib]);\n",
       "        s.onerror = () => reject(`Error loading script: ${paths[lib]}`);\n",
       "        document.getElementsByTagName(\"head\")[0].appendChild(s);\n",
       "      });\n",
       "    }\n",
       "\n",
       "    function showError(err) {\n",
       "      outputDiv.innerHTML = `<div class=\"error\" style=\"color:red;\">${err}</div>`;\n",
       "      throw err;\n",
       "    }\n",
       "\n",
       "    function displayChart(vegaEmbed) {\n",
       "      vegaEmbed(outputDiv, spec, embedOpt)\n",
       "        .catch(err => showError(`Javascript Error: ${err.message}<br>This usually means there's a typo in your chart specification. See the javascript console for the full traceback.`));\n",
       "    }\n",
       "\n",
       "    if(typeof define === \"function\" && define.amd) {\n",
       "      requirejs.config({paths});\n",
       "      require([\"vega-embed\"], displayChart, err => showError(`Error loading script: ${err.message}`));\n",
       "    } else if (typeof vegaEmbed === \"function\") {\n",
       "      displayChart(vegaEmbed);\n",
       "    } else {\n",
       "      loadScript(\"vega\")\n",
       "        .then(() => loadScript(\"vega-lite\"))\n",
       "        .then(() => loadScript(\"vega-embed\"))\n",
       "        .catch(showError)\n",
       "        .then(() => displayChart(vegaEmbed));\n",
       "    }\n",
       "  })({\"config\": {\"view\": {\"continuousWidth\": 400, \"continuousHeight\": 300}}, \"data\": {\"name\": \"data-e11cb6b6affc54449ddd9f78db252dd6\"}, \"mark\": \"bar\", \"encoding\": {\"color\": {\"type\": \"nominal\", \"field\": \"corpus\", \"legend\": null}, \"x\": {\"type\": \"nominal\", \"field\": \"corpus\", \"sort\": \"y\", \"title\": \"Corpus\"}, \"y\": {\"type\": \"quantitative\", \"field\": \"readibility_score\", \"title\": \"Readability Score\"}}, \"height\": 200, \"width\": 300, \"$schema\": \"https://vega.github.io/schema/vega-lite/v4.8.1.json\", \"datasets\": {\"data-e11cb6b6affc54449ddd9f78db252dd6\": [{\"corpus\": \"Penn\", \"readibility_score\": 48.361193762970494}, {\"corpus\": \"Movie Reviews\", \"readibility_score\": 57.98530445444417}, {\"corpus\": \"Brown\", \"readibility_score\": 59.421414769007185}, {\"corpus\": \"Gutenberg\", \"readibility_score\": 70.96167608411457}, {\"corpus\": \"Web Text\", \"readibility_score\": 81.57121075203247}]}}, {\"mode\": \"vega-lite\"});\n",
       "</script>"
      ],
      "text/plain": [
       "alt.Chart(...)"
      ]
     },
     "execution_count": 42,
     "metadata": {},
     "output_type": "execute_result"
    }
   ],
   "source": [
    "alt.Chart(df).mark_bar().encode(\n",
    "    x = alt.X('corpus',sort='y', title = \"Corpus\"),\n",
    "    y = alt.Y('readibility_score', title = \"Readability Score\"),\n",
    "    color = alt.Color('corpus', legend=None)\n",
    ").properties(\n",
    "    width=300,\n",
    "    height=200\n",
    ")"
   ]
  },
  {
   "cell_type": "code",
   "execution_count": null,
   "metadata": {},
   "outputs": [],
   "source": []
  }
 ],
 "metadata": {
  "kernelspec": {
   "display_name": "Python 3",
   "language": "python",
   "name": "python3"
  },
  "language_info": {
   "codemirror_mode": {
    "name": "ipython",
    "version": 3
   },
   "file_extension": ".py",
   "mimetype": "text/x-python",
   "name": "python",
   "nbconvert_exporter": "python",
   "pygments_lexer": "ipython3",
   "version": "3.7.8"
  }
 },
 "nbformat": 4,
 "nbformat_minor": 4
}
